{
  "cells": [
    {
      "cell_type": "markdown",
      "metadata": {
        "id": "-eXR_uGlRpCb"
      },
      "source": [
        "# Módulo 07, Tarefa 01\n",
        "\n",
        "Vamos começar a mexer na nossa base de projeto? Já fizemos um exercício de montar a variável resposta, já pudemos perceber que essa atividade pode não ser trivial. Vamos agora trabalhar a base para que fique propícia ao *scikitlearn* para trabalharmos.\n",
        "\n",
        "Lembrando, a base se chama demo01.csv, e originalmente está publicada [aqui](https://www.kaggle.com/rikdifos/credit-card-approval-prediction)."
      ]
    },
    {
      "cell_type": "markdown",
      "metadata": {
        "id": "p_ushkAeRpCd"
      },
      "source": [
        "#### 1) Carregue a base e avalie:\n",
        "\n",
        "- As variáveis\n",
        "- Tipos de dados de cada variável\n",
        "- Quantidade de missings\n",
        "- Distribuição da variável resposta (mau)"
      ]
    },
    {
      "cell_type": "code",
      "source": [
        "import numpy as np\n",
        "import pandas as pd\n",
        "\n",
        "# Carregar o arquivo demo01.csv\n",
        "file_path = '/content/demo01.csv'\n",
        "dados = pd.read_csv(file_path)\n",
        "\n",
        "# Visualizar as primeiras linhas do DataFrame\n",
        "print(dados.head())\n",
        "\n",
        "# Obter informações sobre as variáveis e tipos de dados\n",
        "print(dados.info())\n",
        "\n",
        "# Verificar a quantidade de missings em cada variável\n",
        "print(\"Quantidade de missings por variável:\\n\", dados.isnull().sum())\n",
        "\n",
        "# Avaliar a distribuição da variável resposta (assumindo 'mau' como binária)\n",
        "print(\"Distribuição da variável resposta ('mau'):\\n\", dados['mau'].value_counts())\n",
        "\n"
      ],
      "metadata": {
        "id": "NYMu6bTAVVag"
      },
      "execution_count": null,
      "outputs": []
    },
    {
      "cell_type": "markdown",
      "metadata": {
        "id": "Zs6OUMCzRpCe"
      },
      "source": [
        "#### 2) Vamos montar um metadados\n",
        "\n",
        "1. Crie um dataframe com os nomes de cada variável e o tipo de dados de cada variável.\n",
        "2. Adicione uma coluna nesse *dataframe* chamada \"qtd_categorias\" e coloque nela o número de categorias correspondente de cada variável.\n",
        "    Dica:\n",
        "        1. inicie uma lista vazia\n",
        "        2. faça um for ao longo dos nomes das variáveis,\n",
        "        3. conte o número de categorias dessa variável\n",
        "        4. acumule essa informação de 3. na lista que você criou em 1.\n",
        "        5. No final, essa lista pode ser atribuída à nossa variável.\n",
        "3. Crie variáveis dummy para as variáveis necessárias (i.e. aquelas que são qualitativas e não estão armazenadas como {0, 1} ou {True, False}."
      ]
    },
    {
      "cell_type": "code",
      "source": [
        "import pandas as pd\n",
        "\n",
        "# Carregar o arquivo demo01.csv\n",
        "file_path = '/content/demo01.csv'\n",
        "dados = pd.read_csv(file_path)\n",
        "\n",
        "# Criar um dataframe de metadados\n",
        "metadata = pd.DataFrame({'Variável': dados.columns, 'Tipo de Dados': dados.dtypes})\n",
        "\n",
        "# Adicionar a coluna 'qtd_categorias'\n",
        "qtd_categorias = []\n",
        "\n",
        "for coluna in dados.columns:\n",
        "    qtd_categorias.append(dados[coluna].nunique())\n",
        "\n",
        "metadata['qtd_categorias'] = qtd_categorias\n",
        "\n",
        "# Visualizar o dataframe de metadados\n",
        "print(\"\\nMetadados:\\n\", metadata)\n"
      ],
      "metadata": {
        "colab": {
          "base_uri": "https://localhost:8080/"
        },
        "id": "MGV9oqumaA22",
        "outputId": "d5e99ed9-fbbd-4029-9fc0-063d03ab0055"
      },
      "execution_count": null,
      "outputs": [
        {
          "output_type": "stream",
          "name": "stdout",
          "text": [
            "\n",
            "Metadados:\n",
            "                                     Variável Tipo de Dados  qtd_categorias\n",
            "sexo                                    sexo        object               2\n",
            "posse_de_veiculo            posse_de_veiculo        object               2\n",
            "posse_de_imovel              posse_de_imovel        object               2\n",
            "qtd_filhos                        qtd_filhos         int64               8\n",
            "tipo_renda                        tipo_renda        object               5\n",
            "educacao                            educacao        object               5\n",
            "estado_civil                    estado_civil        object               5\n",
            "tipo_residencia              tipo_residencia        object               6\n",
            "idade                                  idade       float64            5298\n",
            "tempo_emprego                  tempo_emprego       float64            3005\n",
            "possui_celular                possui_celular         int64               1\n",
            "possui_fone_comercial  possui_fone_comercial         int64               2\n",
            "possui_fone                      possui_fone         int64               2\n",
            "possui_email                    possui_email         int64               2\n",
            "qt_pessoas_residencia  qt_pessoas_residencia       float64               9\n",
            "mau                                      mau          bool               2\n"
          ]
        }
      ]
    },
    {
      "cell_type": "markdown",
      "metadata": {
        "id": "KMJevl2KRpCf"
      },
      "source": [
        "#### 3) Crie variáveis dummy para as variáveis necessárias (i.e. aquelas que são qualitativas e não estão armazenadas como {0, 1} ou {True, False}. Crie um *dataframe* apenas com as variáveis apropriadas para entrada no scikitlearn - elimine as variáveis tipo *str*, mantendo apenas suas versões *dummy*."
      ]
    },
    {
      "cell_type": "code",
      "source": [
        "import pandas as pd\n",
        "\n",
        "# Carregar o arquivo demo01.csv\n",
        "file_path = '/content/demo01.csv'\n",
        "dados = pd.read_csv(file_path)\n",
        "\n",
        "# Criar variáveis dummy para as variáveis qualitativas\n",
        "variaveis_qualitativas = dados.select_dtypes(include=['object']).columns\n",
        "dados = pd.get_dummies(dados, columns=variaveis_qualitativas, drop_first=True)\n",
        "\n",
        "# Criar um dataframe apenas com as variáveis apropriadas para entrada no scikit-learn\n",
        "X = dados.drop(columns=['mau'])  # Exclua a variável resposta\n",
        "y = dados['mau']  # Variável resposta\n",
        "\n",
        "# Visualizar as primeiras linhas do DataFrame resultante\n",
        "print(\"\\nDataFrame com variáveis apropriadas para o scikit-learn:\\n\", X.head())\n",
        "print(\"\\nVariável resposta:\\n\", y.head())\n"
      ],
      "metadata": {
        "colab": {
          "base_uri": "https://localhost:8080/"
        },
        "id": "0PySQk28aq0Y",
        "outputId": "2fe0d30f-ec0e-442c-f8b7-a221f3b8d134"
      },
      "execution_count": null,
      "outputs": [
        {
          "output_type": "stream",
          "name": "stdout",
          "text": [
            "\n",
            "DataFrame com variáveis apropriadas para o scikit-learn:\n",
            "    qtd_filhos      idade  tempo_emprego  possui_celular  \\\n",
            "0           0  58.832877       3.106849               1   \n",
            "1           0  52.356164       8.358904               1   \n",
            "2           0  52.356164       8.358904               1   \n",
            "3           0  46.224658       2.106849               1   \n",
            "4           0  29.230137       3.021918               1   \n",
            "\n",
            "   possui_fone_comercial  possui_fone  possui_email  qt_pessoas_residencia  \\\n",
            "0                      0            0             0                    2.0   \n",
            "1                      0            1             1                    1.0   \n",
            "2                      0            1             1                    1.0   \n",
            "3                      1            1             1                    2.0   \n",
            "4                      0            0             0                    2.0   \n",
            "\n",
            "   sexo_M  posse_de_veiculo_Y  ...  educacao_Secondary / secondary special  \\\n",
            "0       1                   1  ...                                       1   \n",
            "1       0                   0  ...                                       1   \n",
            "2       0                   0  ...                                       1   \n",
            "3       1                   1  ...                                       0   \n",
            "4       0                   1  ...                                       0   \n",
            "\n",
            "   estado_civil_Married  estado_civil_Separated  \\\n",
            "0                     1                       0   \n",
            "1                     0                       0   \n",
            "2                     0                       0   \n",
            "3                     1                       0   \n",
            "4                     1                       0   \n",
            "\n",
            "   estado_civil_Single / not married  estado_civil_Widow  \\\n",
            "0                                  0                   0   \n",
            "1                                  1                   0   \n",
            "2                                  1                   0   \n",
            "3                                  0                   0   \n",
            "4                                  0                   0   \n",
            "\n",
            "   tipo_residencia_House / apartment  tipo_residencia_Municipal apartment  \\\n",
            "0                                  1                                    0   \n",
            "1                                  1                                    0   \n",
            "2                                  1                                    0   \n",
            "3                                  1                                    0   \n",
            "4                                  1                                    0   \n",
            "\n",
            "   tipo_residencia_Office apartment  tipo_residencia_Rented apartment  \\\n",
            "0                                 0                                 0   \n",
            "1                                 0                                 0   \n",
            "2                                 0                                 0   \n",
            "3                                 0                                 0   \n",
            "4                                 0                                 0   \n",
            "\n",
            "   tipo_residencia_With parents  \n",
            "0                             0  \n",
            "1                             0  \n",
            "2                             0  \n",
            "3                             0  \n",
            "4                             0  \n",
            "\n",
            "[5 rows x 28 columns]\n",
            "\n",
            "Variável resposta:\n",
            " 0    False\n",
            "1    False\n",
            "2    False\n",
            "3    False\n",
            "4    False\n",
            "Name: mau, dtype: bool\n"
          ]
        }
      ]
    },
    {
      "cell_type": "markdown",
      "metadata": {
        "id": "Cw30eprXRpCf"
      },
      "source": [
        "#### 4) Qual variável é mais poderosa?\n",
        "\n",
        "Considere as variáveis ```possui_email``` e ```posse_de_veiculo```. Faça uma tabela cruzada entre elas e responda qual delas te parece mais poderosa para prever a probabilidade de ```mau = 1```?"
      ]
    },
    {
      "cell_type": "markdown",
      "metadata": {
        "id": "e2TLyK6XRpCg"
      },
      "source": [
        "#### 5) Salve a base, pois ela será utilizada no final deste módulo."
      ]
    },
    {
      "cell_type": "code",
      "execution_count": null,
      "metadata": {
        "colab": {
          "base_uri": "https://localhost:8080/"
        },
        "id": "ePqx-TY_RpCg",
        "outputId": "7eed3d5a-2d28-40a1-b0ae-747afc64914e"
      },
      "outputs": [
        {
          "output_type": "stream",
          "name": "stdout",
          "text": [
            "\n",
            "Tabela Cruzada:\n",
            " posse_de_veiculo         N         Y     Total\n",
            "possui_email                                  \n",
            "0                 0.024944  0.021788  0.023731\n",
            "1                 0.016726  0.024883  0.020270\n",
            "Total             0.024268  0.022095  0.023423\n"
          ]
        }
      ],
      "source": [
        "import pandas as pd\n",
        "\n",
        "# Carregar o arquivo demo01.csv\n",
        "file_path = '/content/demo01.csv'\n",
        "dados = pd.read_csv(file_path)\n",
        "\n",
        "# Criar uma tabela cruzada entre 'possui_email' e 'posse_de_veiculo' em relação a 'mau'\n",
        "tabela_cruzada = pd.crosstab(index=dados['possui_email'], columns=dados['posse_de_veiculo'], values=dados['mau'], aggfunc='mean', margins=True, margins_name='Total')\n",
        "\n",
        "print(\"\\nTabela Cruzada:\\n\", tabela_cruzada)\n"
      ]
    },
    {
      "cell_type": "markdown",
      "source": [
        "# Explicação da variável mais forte (ter e-mail):\n",
        "\n",
        "A tabela mostra se é mais provável ter problemas de crédito ('mau = 1') com base em duas coisas: se a pessoa tem e-mail ('possui_email') e se ela tem carro ('posse_de_veiculo').\n",
        "A conclusão é que, olhando para as médias na tabela, a diferença é mais óbvia quando comparamos quem tem e quem não tem e-mail.\n",
        "\n",
        "#Por que 'ter e-mail' parece ser mais importante:\n",
        "\n",
        "Quando as pessoas têm e-mail (linha '1' em 'possui_email'), a média de problemas de crédito é menor do que quando não têm e-mail (linha '0'). Essa diferença é mais clara.\n",
        "Por outro lado, a diferença nas médias entre quem tem e quem não tem carro (colunas 'N' e 'Y' em 'posse_de_veiculo') não é tão grande.\n",
        "\n",
        "# Conclusão:\n",
        "\n",
        "A variável 'ter e-mail' parece ser mais forte porque a média de problemas de crédito varia mais entre quem tem e quem não tem e-mail, tornando mais fácil prever se alguém terá problemas de crédito com base nessa informação.\n",
        "\n",
        "\n",
        "\n",
        "\n",
        "\n"
      ],
      "metadata": {
        "id": "WZiHESBsDt7W"
      }
    }
  ],
  "metadata": {
    "kernelspec": {
      "display_name": "Python 3",
      "language": "python",
      "name": "python3"
    },
    "language_info": {
      "codemirror_mode": {
        "name": "ipython",
        "version": 3
      },
      "file_extension": ".py",
      "mimetype": "text/x-python",
      "name": "python",
      "nbconvert_exporter": "python",
      "pygments_lexer": "ipython3",
      "version": "3.8.5"
    },
    "colab": {
      "provenance": []
    }
  },
  "nbformat": 4,
  "nbformat_minor": 0
}